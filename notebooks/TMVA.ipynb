{
 "cells": [
  {
   "cell_type": "markdown",
   "metadata": {},
   "source": [
    "# TMVA(Toolkit for Multivariate Analisys) Examples\n",
    "<hr style=\"border-top-width: 4px; border-top-color: #34609b;\">\n",
    "The <b>T</b>oolkit for <b>M</b>ulti<b>v</b>ariate <b>A</b>nalysis (TMVA) provides a <a href=\"http://root.cern.ch/\">ROOT</a>-integrated machine learning environment for the processing and parallel evaluation of multivariate classification and regression techniques.\n",
    "<img align=\"center\" src=\"../images/TMVALogo.png\"/> \n",
    "\n",
    "<center>\n",
    "<div class=\"boxer\" style=\"width: 100%;display: table;border-collapse: collapse;display: table-row;display: table-cell;text-align: left;\">\n",
    "\t<div class=\"box-row\" style=\"display: table-row;\">\n",
    "\t\t<div class=\"box\" style=\"display: table-cell;width: 50%;\">\n",
    "        <h1 style=\"color:#337AB7;\">Classification</h1>\n",
    "        <hr>\n",
    "        <li><h3><a href=\"tmva/ClassificationTrees.ipynb\"> Trees </a></h3></li>\n",
    "        <li><h3><a href=\"tmva/ClassificationANN.ipynb\"> Artificial Neuronal Networks </a></h3></li>\n",
    "        <li><h3><a href=\"tmva/ClassificationOthers.ipynb\"> Others </a></h3></li>\n",
    "        <hr>\n",
    "        <a data-content=\"Image\" href=\"tmva/PyMVA.ipynb\" class=\"test\"><img class='thumbnail' style='float: left; height: 160px; margin-right: 15px; margin-top: 15px; -web-kit-shadow: None !important; box-shadow: None !important; margin-bottom: 0px;' src=\"../images/ScikitLearnLogo.png\"></a>\n",
    "        <h1>Python TMVA</h1>\n",
    "        <p>PyMVA is\ta set of plugins for TMVA based on python api that allows use of python\tbased ML methods</p>\n",
    "        </div>\n",
    "\t\t<div class=\"box\" style=\"display: table-cell;width: 50%;\">\n",
    "        <h1 style=\"color:#337AB7;\">Regression</h1>\n",
    "        <hr>\n",
    "        <li><h3><a href=\"tmva/RegressionSVM.ipynb\"> Support Vector Machine </a></h3></li>\n",
    "        <li><h3><a href=\"tmva/RegressionFDA.ipynb\"> Function Discriminant analysis </a></h3></li>\n",
    "        <li><h3><a href=\"tmva/RegressionOthers.ipynb\"> Others </a></h3></li>\n",
    "        <hr>\n",
    "        <a data-content=\"Image\" href=\"tmva/RMVA.ipynb\" class=\"test\"><img class='thumbnail' style='float: left; height: 160px; margin-right: 15px; margin-top: 15px; -web-kit-shadow: None !important; box-shadow: None !important; margin-bottom: 0px;' src=\"../images/Rlogo.png\"></a>\n",
    "        <h1>R TMVA</h1>\n",
    "        <p>RMVA is a set of plugins for TMVA that allows the use of R&#39;s classification and regression packages</p>\n",
    "        </div>\n",
    "    </div>\n",
    "</div>\n",
    "<center>"
   ]
  }
 ],
 "metadata": {
  "kernelspec": {
   "display_name": "ROOT C++",
   "language": "c++",
   "name": "root"
  },
  "language_info": {
   "codemirror_mode": "text/x-c++src",
   "file_extension": ".C",
   "mimetype": " text/x-c++src",
   "name": "c++"
  }
 },
 "nbformat": 4,
 "nbformat_minor": 0
}
